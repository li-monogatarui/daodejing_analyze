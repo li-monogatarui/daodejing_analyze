{
 "cells": [
  {
   "cell_type": "code",
   "execution_count": 13,
   "metadata": {},
   "outputs": [],
   "source": [
    "from transformers import pipeline\n",
    "import re\n",
    "import pandas as pd"
   ]
  },
  {
   "cell_type": "code",
   "execution_count": 6,
   "metadata": {},
   "outputs": [
    {
     "name": "stdout",
     "output_type": "stream",
     "text": [
      "WARNING:tensorflow:From c:\\Users\\Ben\\AppData\\Local\\Programs\\Python\\Python312\\Lib\\site-packages\\tf_keras\\src\\losses.py:2976: The name tf.losses.sparse_softmax_cross_entropy is deprecated. Please use tf.compat.v1.losses.sparse_softmax_cross_entropy instead.\n",
      "\n"
     ]
    },
    {
     "data": {
      "application/vnd.jupyter.widget-view+json": {
       "model_id": "ce65a9c5888240c38c804b566d8f5ebd",
       "version_major": 2,
       "version_minor": 0
      },
      "text/plain": [
       "model.safetensors:   0%|          | 0.00/1.63G [00:00<?, ?B/s]"
      ]
     },
     "metadata": {},
     "output_type": "display_data"
    },
    {
     "data": {
      "application/vnd.jupyter.widget-view+json": {
       "model_id": "72c1dad62eb342069d04cf053097b6f3",
       "version_major": 2,
       "version_minor": 0
      },
      "text/plain": [
       "generation_config.json:   0%|          | 0.00/363 [00:00<?, ?B/s]"
      ]
     },
     "metadata": {},
     "output_type": "display_data"
    },
    {
     "data": {
      "application/vnd.jupyter.widget-view+json": {
       "model_id": "98a775e54b9b4fa38819dc768728a24e",
       "version_major": 2,
       "version_minor": 0
      },
      "text/plain": [
       "vocab.json:   0%|          | 0.00/899k [00:00<?, ?B/s]"
      ]
     },
     "metadata": {},
     "output_type": "display_data"
    },
    {
     "data": {
      "application/vnd.jupyter.widget-view+json": {
       "model_id": "3705f3436f2d4e229c422f1595ebeacd",
       "version_major": 2,
       "version_minor": 0
      },
      "text/plain": [
       "merges.txt:   0%|          | 0.00/456k [00:00<?, ?B/s]"
      ]
     },
     "metadata": {},
     "output_type": "display_data"
    },
    {
     "data": {
      "application/vnd.jupyter.widget-view+json": {
       "model_id": "d0b5a04b09cd407bb3f66201a474f23c",
       "version_major": 2,
       "version_minor": 0
      },
      "text/plain": [
       "tokenizer.json:   0%|          | 0.00/1.36M [00:00<?, ?B/s]"
      ]
     },
     "metadata": {},
     "output_type": "display_data"
    }
   ],
   "source": [
    "summarizer = pipeline(\"summarization\", model=\"facebook/bart-large-cnn\")"
   ]
  },
  {
   "cell_type": "code",
   "execution_count": 30,
   "metadata": {},
   "outputs": [],
   "source": [
    "lau = pd.read_csv(\"Cleaning/lau.csv\")\n",
    "lin = pd.read_csv(\"Cleaning/Lin.csv\")\n",
    "yiwu = pd.read_csv(\"Cleaning/YiWu.csv\")\n",
    "chenglin = pd.read_csv(\"Cleaning/ChengLin.csv\")\n",
    "addiss = pd.read_csv(\"Cleaning/addiss.csv\")"
   ]
  },
  {
   "cell_type": "code",
   "execution_count": 18,
   "metadata": {},
   "outputs": [
    {
     "name": "stdout",
     "output_type": "stream",
     "text": [
      "[{'summary_text': 'Nameless was the beginning of heaven and earth. The named was the mother of the myriad creatures. Always rid yourself of desires in order to observe its secrets.'}]\n",
      "[{'summary_text': 'The sage keeps to the deed that consists in taking no action and practises the teaching that uses no words. It accomplishes its task yet lays claim to no merit. It gives them life yet claims no possession. It benefits them yet exacts no gratitude. The difficult and the easy complement each other.'}]\n",
      "[{'summary_text': 'The sage empties their minds but fills their bellies. He weakens their wills but strengthens their bones. He always keeps them innocent of knowledge and free from desire.'}]\n",
      "[{'summary_text': 'The way is empty  yet use will not drain it. It is like the ancestor of the myriad creatures. It images the forefather of God.'}]\n",
      "[{'summary_text': 'Heaven and earth are ruthless and treat the myriad creatures as straw dogs. The space between heaven and earth is empty without being exhausted. The more it works the more comes out.'}]\n",
      "[{'summary_text': 'The spirit of the valley never dies. The gateway of the mysterious female is called the root of heaven and earth.'}]\n",
      "[{'summary_text': 'Heaven and earth are enduring because they do not give themselves life. The sage puts his person last and it comes first. He treats it as extraneous to himself and it is preserved.'}]\n",
      "[{'summary_text': 'The highest good is like water. Water excels in benefiting the myriad creatures without contending with them and settles where none would like to be. It is because it does not contend that it is never at fault.'}]\n",
      "[{'summary_text': 'Gold and jade can fill a hall, but there is none who can keep them. To be overbearing when one has wealth and position is to bring calamity upon oneself. To retire when the task is accomplished is the way of heaven.'}]\n",
      "[{'summary_text': 'Can you embrace in your arms the One and not let go? Can you love the people and govern the state without resorting to action? Are you capable of keeping to the role of the female?'}]\n",
      "[{'summary_text': 'Thirty spokes share one hub. Adapt the nothing therein to the purpose in hand and you will have the use of the cart. Cut out doors and windows in order to make a room.'}]\n",
      "[{'summary_text': \"The five colors make man's eyes blind, the five notes make his ears deaf, and the five tastes injure his palate. The sage is for the belly, not for the eye.\"}]\n",
      "[{'summary_text': \"High rank is  like one's body  a source of great trouble. Favor when it is bestowed on a subject serves to startle as much as when it's withdrawn.\"}]\n",
      "[{'summary_text': 'The shape that has no shape, the image that is without substance and the minute cannot be fathomed. These three can be confused and looked upon as one. The ability to know the beginning of antiquity is called the thread running through the way.'}]\n",
      "[{'summary_text': 'Of old he who was well versed in the way was minutely subtle  mysteriously comprehending. And too profound to be known. He can only be given a makeshift description   Tentative as if fording a river in winter. Hesitant as if in fear of his neighbors.'}]\n",
      "[{'summary_text': '\"I do my utmost to attain emptiness\" says the poet. \"I hold firmly to stillness\" \"I watch their return\"'}]\n",
      "[{'summary_text': 'The best of all rulers is but a shadowy presence to his subjects. Next comes the ruler they love and praise. Then comes one they fear.'}]\n",
      "[{'summary_text': 'When the great way falls into disuse, there are benevolence and rectitude. When cleverness emerges, there is great hypocrisy. There are filial children when the state is benighted.'}]\n",
      "[{'summary_text': 'Exhibit the unadorned and embrace the uncarved block. Have little thought of self and as few desires as possible. Exterminate learning and there will no longer be worries.'}]\n",
      "[{'summary_text': '\"I alone am inactive and reveal no signs,\" he writes. \"The multitude all have more than enough\" \"I alone seem to be in want,\" he adds. \"My mind is a fool\"'}]\n",
      "[{'summary_text': 'Within it is an image   \\xa0   Shadowy and indistinct, yet within it is a substance that can be tested. It serves as a means for inspecting the fathers of the multitude. By means of this, I know that the fathers  are like that.'}]\n",
      "[{'summary_text': \"The sage embraces the One and is a model for the empire. He does not show himself  and so is conspicuous. 'Bowed down then preserved'  is no empty saying.\"}]\n",
      "[{'summary_text': 'Heaven and earth cannot go on forever, much less can man. A man who conforms to the way is gladly accepted by the way. To use words but rarely  is to be natural.'}]\n",
      "[{'summary_text': 'He who tiptoes cannot stand  he who strides cannot walk. He who considers himself right is not illustrious. Hewho brags will have no merit and will not endure.'}]\n",
      "[{'summary_text': \"There is a thing confusedly formed before heaven and earth. I style it 'the way' and give it the makeshift name of 'the great' Within the realm there are four things that are great. And the king counts as one.\"}]\n",
      "[{'summary_text': 'Heavy is the root of the light. The still is the lord of the restless. The gentleman when travelling all day never lets the heavily laden carts out of his sight.'}]\n",
      "[{'summary_text': 'The sage always excels in saving people and so abandons no one. The good man is the teacher the bad learns from and the bad is the material the good works on. Not to value the teacher is not to love the material.'}]\n",
      "[{'summary_text': 'Know the male    but keep to the role of the female. Be a ravine to the empire and the constant virtue will not desert you. Know the white and the sullied and be a model to the Empire. If you are a valley to the empires virtue will be sufficient and you will return to the infinite.'}]\n",
      "[{'summary_text': 'The empire is a sacred vessel and nothing should be done to it. Whoever does anything to it will ruin it. The sage avoids excess  extravagance and arrogance.'}]\n",
      "[{'summary_text': 'One who assists the ruler of men by means of the way does not intimidate the empire by a show of arms. A creature in its prime doing harm to the old is known as going against the way. That which goes against the Way will come to an early end.'}]\n",
      "[{'summary_text': 'Arms are instruments of ill omen and there are Things that detest them. The gentleman gives precedence to the left when at home but to the right when at war. There is no glory in victory and so to glorify it is to exult in the killing of men.'}]\n",
      "[{'summary_text': 'The way is for ever nameless. No one in the world dare claim its allegiance. Only when it is cut are there names.'}]\n",
      "[{'summary_text': 'He who knows himself has discernment. He who overcomes others has force. A man who perseveres is a man of purpose.'}]\n",
      "[{'summary_text': 'The way is broad  reaching left as well as right. The myriad creatures depend on it for life yet it claims no authority. It accomplishes its task yet lays claim to no merit.'}]\n",
      "[{'summary_text': 'Music and food will induce the wayfarer to stop. The way in its passage through the mouth is without flavor. Yet it cannot be exhausted by use.'}]\n",
      "[{'summary_text': 'If you would have a thing shrink, you must first stretch it. You must first strengthen it. If you would take from a thing you must give to it. This is called subtle discernment. The submissive and weak will overcome the hard and strong.'}]\n",
      "[{'summary_text': '\"The nameless uncarved block    is but freedom from desire\" \"If I cease to desire and remain still, the empire will be at peace of its own accord\"'}]\n",
      "[{'summary_text': 'A man of the lowest virtue never strays from virtue and that is why he is without virtue. The former never acts yet leaves nothing undone. The latter acts but there are things left undone. A man most conversant in the rites acts  but when no one responds rolls up his sleeves and resorts to persuasion.'}]\n"
     ]
    },
    {
     "name": "stderr",
     "output_type": "stream",
     "text": [
      "Your max_length is set to 75, but your input_length is only 60. Since this is a summarization task, where outputs shorter than the input are typically wanted, you might consider decreasing max_length manually, e.g. summarizer('...', max_length=30)\n"
     ]
    },
    {
     "name": "stdout",
     "output_type": "stream",
     "text": [
      "[{'summary_text': 'Heaven and earth came to be in possession of the One. Without what gives them their potencies gods might spend themselves. The superior must have the inferior as root. The highest renown is without renown.'}]\n",
      "[{'summary_text': 'Turning back is how the way moves. Weakness is the means the way employs. The myriad creatures in the world are born from something and nothing.'}]\n",
      "[{'summary_text': \"The way that is bright seems dull. The way that's forward seems to lead backward. The highest virtue is like the valley. The sheerest whiteness seems sullied. The great square has no corners.\"}]\n",
      "[{'summary_text': \"One begets two, two begets three, three begets the myriad creatures. The myriad creatures carry on their backs the yin and embrace in their arms the yang. 'The violent shall not come to a natural end' I shall take this as my precept.\"}]\n",
      "[{'summary_text': 'Exterminate learning and there will no longer be worries. The most submissive thing in the world can ride roughshod over the hardest. That which is without substance entering that which has no crevices.'}]\n",
      "[{'summary_text': 'Excessive meanness is sure to lead to great expense. Too much store   \\xa0is sure to end in immense loss. Know contentment and you will suffer no disgrace. And you will meet with no danger.'}]\n",
      "[{'summary_text': 'Great perfection seems chipped. Great skill seems awkward. Great eloquence seems tongue tied. Restlessness overcomes cold. Stillness overcomes heat. One can be a leader in the empire.'}]\n",
      "[{'summary_text': 'When the way prevails in the empire  fleet footed horses are relegated to ploughing. War horses breed on the border.'}]\n",
      "[{'summary_text': 'The further one goes, the less one knows. Therefore the sage knows without having to stir.'}]\n",
      "[{'summary_text': 'In the pursuit of learning one knows more every day. One does less and less until one does nothing at all. It is always through not meddling that the empire is won. Should you meddle  then you are not equal to the task of winning the empire.'}]\n",
      "[{'summary_text': 'The sage has no mind of his own. He takes as his own the mind of the people. The people all have something to occupy their eyes and ears. The sage treats them all like children.'}]\n",
      "[{'summary_text': 'When going one way means life and going the other means death, three in ten will be comrades in life. There are also those who value life and as a result move into the realm of death.'}]\n",
      "[{'summary_text': 'The myriad creatures all revere the way and honor virtue. The way is revered and virtue honored not because this is decreed by any authority but because it is natural for them to be treated so. Such is called the mysterious virtue.'}]\n",
      "[{'summary_text': 'The world had a beginning and this beginning could be the mother of the world. To see the small is called discernment. To hold fast to the submissive is called strength. To bring misfortune upon yourself is known as following the constant.'}]\n",
      "[{'summary_text': 'The great way is easy, yet people prefer by paths that lead astray. The court is corrupt, the fields are overgrown with weeds and the granaries are empty. Yet there are those dressed in fineries, with swords at their sides and filled with food and drink.'}]\n",
      "[{'summary_text': 'The offering of sacrifice by descendants will never come to an end, writes Bhagat Singh. What is firmly rooted cannot be pulled out, he says. The virtue of the family will endure, he adds.'}]\n",
      "[{'summary_text': \"One who possesses virtue in abundance is comparable to a new born babe. To know harmony is called the constant. To try to add to one's vitality is called ill omened. For the mind to egg on the breath is called violent.\"}]\n",
      "[{'summary_text': \"Mysterious sameness is known as mysterious sameness. You cannot get close to it  nor can you keep it at arm's length. You can't bestow benefit on it nor do it harm. Therefore it is valued by the empire.\"}]\n",
      "[{'summary_text': 'Govern the state by being straightforward. Wage war by being crafty. But win the empire by not being meddlesome. The poorer the people, the more taboos there are in the empire.'}]\n",
      "[{'summary_text': 'When the government is muddled, the people are simple. The straighforward changes again into the crafty. The good changes again    into the monstrous.'}]\n",
      "[{'summary_text': 'In ruling the people and in serving heaven it is best for a ruler to be sparing. He may be said to follow the way from the start. Accumulating an abundance of virtue there is nothing he cannot overcome.'}]\n",
      "[{'summary_text': 'Governing a large state is like boiling a small fish. When the empire is ruled in accordance with the way, the spirits lose their potencies.'}]\n",
      "[{'summary_text': 'A large state is the lower reaches of a river. The small state by taking the lower position affiliates itself to the large state. The female always gets the better of the male by stillness.'}]\n",
      "[{'summary_text': 'The way is the refuge for the myriad creatures. It is that by which the good man protects. Beautiful deeds can raise a man above others. If a man is not good  why should he be abandoned?'}]\n",
      "[{'summary_text': 'Sage: Make the small big and the few many. Do good to him who has done you an injury. Lay plans for the accomplishment of the difficult before it becomes difficult.'}]\n",
      "[{'summary_text': 'It is easy to maintain a situation while it is still secure. The sage never ruins anything. Because he does not lay hold of anything, he loses nothing.'}]\n",
      "[{'summary_text': 'Those who excelled in the pursuit of the way did not use it to enlighten the people but to hoodwink them. The reason why the people are difficult to govern is that they are too clever. Not to rule a state by cleverness will be a boon to the state.'}]\n",
      "[{'summary_text': 'The River and the Sea are able to be king of the hundred valleys because they excel in taking the lower position. The sage takes his place over the people yet is no burden. The empire supports him joyfully and never tires of doing so.'}]\n",
      "[{'summary_text': '\"I have three treasures which I hold and cherish,\" he writes. \"The first is known as compassion, the second is frugality and the third is not daring to take the lead in the empire\"'}]\n",
      "[{'summary_text': 'One who excels in fighting is never roused in anger. One who excel in employing others humbles himself before them. This is known as the virtue of non contention.'}]\n",
      "[{'summary_text': 'The strategists have a saying: I dare not play the host but play the guest. This is known as marching forward when there is no road. And taking up arms when there are no arms is no disaster greater than taking on an enemy too easily.'}]\n",
      "[{'summary_text': 'My words are easy to understand and very easy to put into practice. Yet no one in the world can understand them or put them into practice   Words    have an ancestor and affairs have a sovereign. It is because people are ignorant that they fail to understand me.'}]\n",
      "[{'summary_text': 'The sage meets with no difficulty because he is alive to it, writes the author. The sage knows what is best, but not to know yet to think that one knows will lead to difficulty, he says.'}]\n",
      "[{'summary_text': \"When the people lack a proper sense of awe  then some awful visitation will descend upon them. The sage knows himself but does not display himself. Loves himself but doesn't exalt himself.\"}]\n",
      "[{'summary_text': 'He who is fearless in being bold will meet with his death. He who is timid in being timid will stay alive. Of the two  one leads to good  the other to harm.'}]\n",
      "[{'summary_text': 'When the people are not afraid of death  wherefore frighten them with death, he asks. There is a regular executioner whose charge it is to kill. To kill on behalf of the executioner is what is described as chopping wood.'}]\n",
      "[{'summary_text': 'The people are hungry because those in authority eat up too much in taxes. The people are difficult to govern because they set too much store by life. It is because one has no use for life that one is wiser than the man who values life.'}]\n",
      "[{'summary_text': 'A man is supple and weak when living  but hard and stiff when dead. Grass and trees are pliant and fragile when living but dried and shrivelled when dead    When a tree is strong it will suffer the axe. The hard and the strong are the comrades of death.'}]\n",
      "[{'summary_text': 'The way of man is otherwise it takes from those who are in want in order to offer this to those who already have more than enough. Only he who has the way benefits them yet exacts no gratitude. Accomplishes his task yet lays claim to no merit. He does not wish to be considered a better man than others.'}]\n",
      "[{'summary_text': 'In the world there is nothing more submissive and weak than water. For attacking that which is hard and strong nothing can surpass it. One who takes on himself the humiliation of the state is called a ruler worthy of offering sacrifices.'}]\n",
      "[{'summary_text': 'When peace is made between great enemies, some enmity is bound to remain. The sage takes the left hand tally but exacts no payment from the people. It is the way of heaven to show no favoritism.'}]\n",
      "[{'summary_text': ' reduce the size of the population and the state. Ensure that even though the people have tools of war for a troop or a battalion, they will not use them. And also that they will be reluctant to move to distant places because they look on death as no light matter.'}]\n",
      "[{'summary_text': \"The way of the sage is bountiful and does not contend. Truthful words are not beautiful and good words aren't persuasive. He who knows has no wide learning.\"}]\n"
     ]
    }
   ],
   "source": [
    "for i in lau['txt']:\n",
    "    print(summarizer(i, max_length=75, min_length=10, do_sample=False))"
   ]
  },
  {
   "cell_type": "code",
   "execution_count": 19,
   "metadata": {},
   "outputs": [
    {
     "name": "stderr",
     "output_type": "stream",
     "text": [
      "No model was supplied, defaulted to distilbert/distilbert-base-uncased-finetuned-sst-2-english and revision af0f99b (https://huggingface.co/distilbert/distilbert-base-uncased-finetuned-sst-2-english).\n",
      "Using a pipeline without specifying a model name and revision in production is not recommended.\n",
      "c:\\Users\\Ben\\AppData\\Local\\Programs\\Python\\Python312\\Lib\\site-packages\\huggingface_hub\\file_download.py:1132: FutureWarning: `resume_download` is deprecated and will be removed in version 1.0.0. Downloads always resume when possible. If you want to force a new download, use `force_download=True`.\n",
      "  warnings.warn(\n"
     ]
    },
    {
     "data": {
      "application/vnd.jupyter.widget-view+json": {
       "model_id": "40b8f83a2d1843afb243dfedb381230b",
       "version_major": 2,
       "version_minor": 0
      },
      "text/plain": [
       "config.json:   0%|          | 0.00/629 [00:00<?, ?B/s]"
      ]
     },
     "metadata": {},
     "output_type": "display_data"
    },
    {
     "name": "stderr",
     "output_type": "stream",
     "text": [
      "c:\\Users\\Ben\\AppData\\Local\\Programs\\Python\\Python312\\Lib\\site-packages\\huggingface_hub\\file_download.py:157: UserWarning: `huggingface_hub` cache-system uses symlinks by default to efficiently store duplicated files but your machine does not support them in C:\\Users\\Ben\\.cache\\huggingface\\hub\\models--distilbert--distilbert-base-uncased-finetuned-sst-2-english. Caching files will still work but in a degraded version that might require more space on your disk. This warning can be disabled by setting the `HF_HUB_DISABLE_SYMLINKS_WARNING` environment variable. For more details, see https://huggingface.co/docs/huggingface_hub/how-to-cache#limitations.\n",
      "To support symlinks on Windows, you either need to activate Developer Mode or to run Python as an administrator. In order to see activate developer mode, see this article: https://docs.microsoft.com/en-us/windows/apps/get-started/enable-your-device-for-development\n",
      "  warnings.warn(message)\n"
     ]
    },
    {
     "data": {
      "application/vnd.jupyter.widget-view+json": {
       "model_id": "e8bd1f731e474d19b5f756549f7fd1c5",
       "version_major": 2,
       "version_minor": 0
      },
      "text/plain": [
       "model.safetensors:   0%|          | 0.00/268M [00:00<?, ?B/s]"
      ]
     },
     "metadata": {},
     "output_type": "display_data"
    },
    {
     "data": {
      "application/vnd.jupyter.widget-view+json": {
       "model_id": "887aa9f14c634606889ea30d7417bc9b",
       "version_major": 2,
       "version_minor": 0
      },
      "text/plain": [
       "tokenizer_config.json:   0%|          | 0.00/48.0 [00:00<?, ?B/s]"
      ]
     },
     "metadata": {},
     "output_type": "display_data"
    },
    {
     "data": {
      "application/vnd.jupyter.widget-view+json": {
       "model_id": "3dd85275648441789716eabe69382d9b",
       "version_major": 2,
       "version_minor": 0
      },
      "text/plain": [
       "vocab.txt:   0%|          | 0.00/232k [00:00<?, ?B/s]"
      ]
     },
     "metadata": {},
     "output_type": "display_data"
    }
   ],
   "source": [
    "sentiment_pipeline = pipeline(\"sentiment-analysis\")"
   ]
  },
  {
   "cell_type": "code",
   "execution_count": 31,
   "metadata": {},
   "outputs": [
    {
     "name": "stdout",
     "output_type": "stream",
     "text": [
      "Chapter 1\n",
      "Lau:  [{'label': 'POSITIVE', 'score': 0.7680146098136902}]\n",
      "Lin:  [{'label': 'POSITIVE', 'score': 0.9596930742263794}]\n",
      "YiWu:  [{'label': 'POSITIVE', 'score': 0.9765517711639404}]\n",
      "ChengLin:  [{'label': 'POSITIVE', 'score': 0.986396074295044}]\n",
      "Addiss:  [{'label': 'POSITIVE', 'score': 0.9861574172973633}]\n",
      "Chapter 2\n",
      "Lau:  [{'label': 'NEGATIVE', 'score': 0.9948276877403259}]\n",
      "Lin:  [{'label': 'NEGATIVE', 'score': 0.8166388273239136}]\n",
      "YiWu:  [{'label': 'POSITIVE', 'score': 0.9904322028160095}]\n",
      "ChengLin:  [{'label': 'NEGATIVE', 'score': 0.9957697987556458}]\n",
      "Addiss:  [{'label': 'POSITIVE', 'score': 0.9076559543609619}]\n",
      "Chapter 3\n",
      "Lau:  [{'label': 'POSITIVE', 'score': 0.9913017153739929}]\n",
      "Lin:  [{'label': 'NEGATIVE', 'score': 0.8524128794670105}]\n",
      "YiWu:  [{'label': 'POSITIVE', 'score': 0.9979466795921326}]\n",
      "ChengLin:  [{'label': 'POSITIVE', 'score': 0.9721983671188354}]\n",
      "Addiss:  [{'label': 'POSITIVE', 'score': 0.8089572191238403}]\n",
      "Chapter 4\n",
      "Lau:  [{'label': 'NEGATIVE', 'score': 0.9532721638679504}]\n",
      "Lin:  [{'label': 'NEGATIVE', 'score': 0.6669595241546631}]\n",
      "YiWu:  [{'label': 'POSITIVE', 'score': 0.9441573023796082}]\n",
      "ChengLin:  [{'label': 'POSITIVE', 'score': 0.6211364269256592}]\n",
      "Addiss:  [{'label': 'NEGATIVE', 'score': 0.9102659821510315}]\n",
      "Chapter 5\n",
      "Lau:  [{'label': 'NEGATIVE', 'score': 0.9948857426643372}]\n",
      "Lin:  [{'label': 'NEGATIVE', 'score': 0.9985125660896301}]\n",
      "YiWu:  [{'label': 'NEGATIVE', 'score': 0.9926779270172119}]\n",
      "ChengLin:  [{'label': 'NEGATIVE', 'score': 0.9227630496025085}]\n",
      "Addiss:  [{'label': 'NEGATIVE', 'score': 0.9996210336685181}]\n"
     ]
    }
   ],
   "source": [
    "for i in range(5):\n",
    "    print(f'Chapter {i + 1}')\n",
    "    print(\"Lau: \", sentiment_pipeline(lau['txt'][i]))\n",
    "    print(\"Lin: \", sentiment_pipeline(lin['txt'][i]))\n",
    "    print(\"YiWu: \", sentiment_pipeline(yiwu['txt'][i]))\n",
    "    print(\"ChengLin: \", sentiment_pipeline(chenglin['txt'][i]))\n",
    "    print(\"Addiss: \", sentiment_pipeline(addiss['txt'][i]))"
   ]
  },
  {
   "cell_type": "markdown",
   "metadata": {},
   "source": [
    "Different translations can read completely differently to an AI model. Here the same chapters in different translations can end up being completely different sentiments."
   ]
  },
  {
   "cell_type": "code",
   "execution_count": null,
   "metadata": {},
   "outputs": [],
   "source": []
  }
 ],
 "metadata": {
  "kernelspec": {
   "display_name": "Python 3",
   "language": "python",
   "name": "python3"
  },
  "language_info": {
   "codemirror_mode": {
    "name": "ipython",
    "version": 3
   },
   "file_extension": ".py",
   "mimetype": "text/x-python",
   "name": "python",
   "nbconvert_exporter": "python",
   "pygments_lexer": "ipython3",
   "version": "3.12.3"
  }
 },
 "nbformat": 4,
 "nbformat_minor": 2
}
