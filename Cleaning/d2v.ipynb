{
 "cells": [
  {
   "cell_type": "code",
   "execution_count": 1,
   "metadata": {},
   "outputs": [],
   "source": [
    "import pandas as pd"
   ]
  },
  {
   "cell_type": "code",
   "execution_count": 3,
   "metadata": {},
   "outputs": [],
   "source": [
    "full = []\n",
    "docs = []\n",
    "\n",
    "sites = [\"addiss\", \"ChengLin\", \"legge\", \"lau\", \"YiWu\", \"mitchell\", \"hansen\", \"blakney\", \"tamgibbs\", \"ludd\", \"Lin\", \"Marshall\"]\n",
    "\n",
    "for i in sites:\n",
    "    df = pd.read_csv(f\"{i}.csv\")\n",
    "    text = \" \".join(df['txt'])\n",
    "    full.append(text)\n",
    "    docs.append(i)\n",
    "\n",
    "frame = pd.DataFrame({'document': docs, 'text': full})\n",
    "frame['text'] = frame['text'].apply(lambda x: x.lower())\n",
    "frame['sep_words'] = frame['text'].apply(lambda x: x.split())\n",
    "frame.to_csv(\"ddj_docs.csv\")"
   ]
  },
  {
   "cell_type": "code",
   "execution_count": 4,
   "metadata": {},
   "outputs": [],
   "source": [
    "from gensim.models.doc2vec import Doc2Vec, TaggedDocument\n",
    "# only works on older python versions (I used 3.9.1); newer python does not support TriU"
   ]
  },
  {
   "cell_type": "code",
   "execution_count": 5,
   "metadata": {},
   "outputs": [],
   "source": [
    "d_model = Doc2Vec(alpha=0.01, \n",
    "                min_alpha=0.0007,\n",
    "                min_count=1,\n",
    "                dm =1)"
   ]
  },
  {
   "cell_type": "code",
   "execution_count": 6,
   "metadata": {},
   "outputs": [],
   "source": [
    "sent = frame['sep_words']\n",
    "tagged = [TaggedDocument(words=sent[i], tags = [str(i)]) for i in range(len(sent))]\n",
    "d_model.build_vocab(tagged)"
   ]
  },
  {
   "cell_type": "code",
   "execution_count": 7,
   "metadata": {},
   "outputs": [],
   "source": [
    "d_model.train(tagged,\n",
    "            total_examples=d_model.corpus_count,\n",
    "            epochs=40)"
   ]
  },
  {
   "cell_type": "markdown",
   "metadata": {},
   "source": [
    "DC Lau's version is most similar to: Lin's, Marshall's, Blakney's"
   ]
  },
  {
   "cell_type": "code",
   "execution_count": 8,
   "metadata": {},
   "outputs": [
    {
     "name": "stdout",
     "output_type": "stream",
     "text": [
      "[('10', 0.7378681302070618), ('11', 0.7129746079444885), ('7', 0.6747002601623535), ('0', 0.6422277092933655), ('9', 0.639506459236145), ('8', 0.6243600845336914), ('4', 0.49523451924324036), ('1', 0.4392992854118347), ('5', 0.417031466960907), ('2', 0.3967507481575012)]\n"
     ]
    }
   ],
   "source": [
    "similar_doc = d_model.dv.most_similar('3')\n",
    "print(similar_doc)"
   ]
  },
  {
   "cell_type": "code",
   "execution_count": null,
   "metadata": {},
   "outputs": [],
   "source": []
  }
 ],
 "metadata": {
  "kernelspec": {
   "display_name": "Python 3",
   "language": "python",
   "name": "python3"
  },
  "language_info": {
   "codemirror_mode": {
    "name": "ipython",
    "version": 3
   },
   "file_extension": ".py",
   "mimetype": "text/x-python",
   "name": "python",
   "nbconvert_exporter": "python",
   "pygments_lexer": "ipython3",
   "version": "3.9.1"
  }
 },
 "nbformat": 4,
 "nbformat_minor": 2
}
